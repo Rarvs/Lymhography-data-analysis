{
 "cells": [
  {
   "cell_type": "code",
   "execution_count": 4,
   "metadata": {},
   "outputs": [
    {
     "name": "stderr",
     "output_type": "stream",
     "text": [
      "<>:4: SyntaxWarning: invalid escape sequence '\\l'\n",
      "<>:4: SyntaxWarning: invalid escape sequence '\\l'\n",
      "C:\\Users\\Rafael\\AppData\\Local\\Temp\\ipykernel_17184\\1472319596.py:4: SyntaxWarning: invalid escape sequence '\\l'\n",
      "  data = pd.read_csv(\"Data\\lymphography.csv\")\n"
     ]
    },
    {
     "data": {
      "text/html": [
       "<div>\n",
       "<style scoped>\n",
       "    .dataframe tbody tr th:only-of-type {\n",
       "        vertical-align: middle;\n",
       "    }\n",
       "\n",
       "    .dataframe tbody tr th {\n",
       "        vertical-align: top;\n",
       "    }\n",
       "\n",
       "    .dataframe thead th {\n",
       "        text-align: right;\n",
       "    }\n",
       "</style>\n",
       "<table border=\"1\" class=\"dataframe\">\n",
       "  <thead>\n",
       "    <tr style=\"text-align: right;\">\n",
       "      <th></th>\n",
       "      <th>class</th>\n",
       "      <th>lymphatics</th>\n",
       "      <th>block of affere</th>\n",
       "      <th>bl. of lymph. c</th>\n",
       "      <th>bl. of lymph. s</th>\n",
       "      <th>by pass</th>\n",
       "      <th>extravasates</th>\n",
       "      <th>regeneration of</th>\n",
       "      <th>early uptake in</th>\n",
       "      <th>lym.nodes dimin</th>\n",
       "      <th>lym.nodes enlar</th>\n",
       "      <th>changes in lym</th>\n",
       "      <th>defect in node</th>\n",
       "      <th>changes in node</th>\n",
       "      <th>changes in stru</th>\n",
       "      <th>special forms</th>\n",
       "      <th>dislocation of</th>\n",
       "      <th>exclusion of no</th>\n",
       "      <th>no. of nodes in</th>\n",
       "    </tr>\n",
       "  </thead>\n",
       "  <tbody>\n",
       "    <tr>\n",
       "      <th>0</th>\n",
       "      <td>3</td>\n",
       "      <td>4</td>\n",
       "      <td>2</td>\n",
       "      <td>1</td>\n",
       "      <td>1</td>\n",
       "      <td>1</td>\n",
       "      <td>1</td>\n",
       "      <td>1</td>\n",
       "      <td>2</td>\n",
       "      <td>1</td>\n",
       "      <td>2</td>\n",
       "      <td>2</td>\n",
       "      <td>2</td>\n",
       "      <td>4</td>\n",
       "      <td>8</td>\n",
       "      <td>1</td>\n",
       "      <td>1</td>\n",
       "      <td>2</td>\n",
       "      <td>2</td>\n",
       "    </tr>\n",
       "    <tr>\n",
       "      <th>1</th>\n",
       "      <td>2</td>\n",
       "      <td>3</td>\n",
       "      <td>2</td>\n",
       "      <td>1</td>\n",
       "      <td>1</td>\n",
       "      <td>2</td>\n",
       "      <td>2</td>\n",
       "      <td>1</td>\n",
       "      <td>2</td>\n",
       "      <td>1</td>\n",
       "      <td>3</td>\n",
       "      <td>3</td>\n",
       "      <td>2</td>\n",
       "      <td>3</td>\n",
       "      <td>4</td>\n",
       "      <td>2</td>\n",
       "      <td>2</td>\n",
       "      <td>2</td>\n",
       "      <td>2</td>\n",
       "    </tr>\n",
       "    <tr>\n",
       "      <th>2</th>\n",
       "      <td>3</td>\n",
       "      <td>3</td>\n",
       "      <td>2</td>\n",
       "      <td>2</td>\n",
       "      <td>2</td>\n",
       "      <td>2</td>\n",
       "      <td>2</td>\n",
       "      <td>2</td>\n",
       "      <td>2</td>\n",
       "      <td>1</td>\n",
       "      <td>4</td>\n",
       "      <td>3</td>\n",
       "      <td>3</td>\n",
       "      <td>4</td>\n",
       "      <td>8</td>\n",
       "      <td>3</td>\n",
       "      <td>2</td>\n",
       "      <td>2</td>\n",
       "      <td>7</td>\n",
       "    </tr>\n",
       "    <tr>\n",
       "      <th>3</th>\n",
       "      <td>3</td>\n",
       "      <td>3</td>\n",
       "      <td>1</td>\n",
       "      <td>1</td>\n",
       "      <td>1</td>\n",
       "      <td>1</td>\n",
       "      <td>2</td>\n",
       "      <td>1</td>\n",
       "      <td>2</td>\n",
       "      <td>1</td>\n",
       "      <td>3</td>\n",
       "      <td>3</td>\n",
       "      <td>4</td>\n",
       "      <td>4</td>\n",
       "      <td>4</td>\n",
       "      <td>3</td>\n",
       "      <td>1</td>\n",
       "      <td>2</td>\n",
       "      <td>6</td>\n",
       "    </tr>\n",
       "    <tr>\n",
       "      <th>4</th>\n",
       "      <td>2</td>\n",
       "      <td>3</td>\n",
       "      <td>1</td>\n",
       "      <td>1</td>\n",
       "      <td>1</td>\n",
       "      <td>1</td>\n",
       "      <td>1</td>\n",
       "      <td>1</td>\n",
       "      <td>1</td>\n",
       "      <td>1</td>\n",
       "      <td>2</td>\n",
       "      <td>2</td>\n",
       "      <td>4</td>\n",
       "      <td>3</td>\n",
       "      <td>5</td>\n",
       "      <td>1</td>\n",
       "      <td>2</td>\n",
       "      <td>2</td>\n",
       "      <td>1</td>\n",
       "    </tr>\n",
       "  </tbody>\n",
       "</table>\n",
       "</div>"
      ],
      "text/plain": [
       "   class  lymphatics  block of affere  bl. of lymph. c  bl. of lymph. s  \\\n",
       "0      3           4                2                1                1   \n",
       "1      2           3                2                1                1   \n",
       "2      3           3                2                2                2   \n",
       "3      3           3                1                1                1   \n",
       "4      2           3                1                1                1   \n",
       "\n",
       "   by pass  extravasates  regeneration of  early uptake in  lym.nodes dimin  \\\n",
       "0        1             1                1                2                1   \n",
       "1        2             2                1                2                1   \n",
       "2        2             2                2                2                1   \n",
       "3        1             2                1                2                1   \n",
       "4        1             1                1                1                1   \n",
       "\n",
       "   lym.nodes enlar  changes in lym  defect in node  changes in node  \\\n",
       "0                2               2               2                4   \n",
       "1                3               3               2                3   \n",
       "2                4               3               3                4   \n",
       "3                3               3               4                4   \n",
       "4                2               2               4                3   \n",
       "\n",
       "   changes in stru  special forms  dislocation of  exclusion of no  \\\n",
       "0                8              1               1                2   \n",
       "1                4              2               2                2   \n",
       "2                8              3               2                2   \n",
       "3                4              3               1                2   \n",
       "4                5              1               2                2   \n",
       "\n",
       "   no. of nodes in  \n",
       "0                2  \n",
       "1                2  \n",
       "2                7  \n",
       "3                6  \n",
       "4                1  "
      ]
     },
     "execution_count": 4,
     "metadata": {},
     "output_type": "execute_result"
    }
   ],
   "source": [
    "import pandas as pd\n",
    "import matplotlib.pyplot as plot\n",
    "\n",
    "data = pd.read_csv(\"Data\\lymphography.csv\")\n",
    "\n",
    "data.head()"
   ]
  },
  {
   "cell_type": "markdown",
   "metadata": {},
   "source": [
    "1. Identificação do atributo alvo (saída);"
   ]
  },
  {
   "cell_type": "code",
   "execution_count": 5,
   "metadata": {},
   "outputs": [
    {
     "data": {
      "text/plain": [
       "0      3\n",
       "1      2\n",
       "2      3\n",
       "3      3\n",
       "4      2\n",
       "      ..\n",
       "143    3\n",
       "144    2\n",
       "145    3\n",
       "146    2\n",
       "147    2\n",
       "Name: class, Length: 148, dtype: int64"
      ]
     },
     "execution_count": 5,
     "metadata": {},
     "output_type": "execute_result"
    }
   ],
   "source": [
    "data[\"class\"]"
   ]
  },
  {
   "cell_type": "markdown",
   "metadata": {},
   "source": [
    "2. Identificação dos tipos de dados dos atributos de entrada (quantitativo, qualitativo);\n",
    "\n",
    "1. class: alvo\n",
    "2. lymphatics: qualitativo\n",
    "3. block of affere: qualitativo\n",
    "4. bl. of lymph. c: qualitativo\n",
    "5. bl. of lymph. s: qualitativo\n",
    "6. by pass: qualitativo\n",
    "7. extravasates: qualitativo\n",
    "8. regeneration of: qualitativo\n",
    "9. early uptake in: qualitativo\n",
    "10. lym.nodes dimin: 0-3\n",
    "11. lym.nodes enlar: 1-4\n",
    "12. changes in lym.: qualitativo\n",
    "13. defect in node: qualitativo\n",
    "14. changes in node: qualitativo\n",
    "15. changes in stru: qualitativo\n",
    "16. special forms: qualitativo\n",
    "17. dislocation of: qualitativo\n",
    "18. exclusion of no: qualitativo\n",
    "19. no. of nodes in: quantitativo\n"
   ]
  },
  {
   "cell_type": "markdown",
   "metadata": {},
   "source": [
    "3. Identificação da escala de dados dos atributos de entrada (nominal, ordinal, intervalar,\n",
    "racional);\n",
    "\n",
    "1. class: alvo\n",
    "2. lymphatics: nominal\n",
    "3. block of affere: nominal\n",
    "4. bl. of lymph. c: nominal\n",
    "5. bl. of lymph. s: nominal\n",
    "6. by pass: nominal\n",
    "7. extravasates: nominal\n",
    "8. regeneration of: nominal\n",
    "9. early uptake in: nominal\n",
    "10. lym.nodes dimin: 0-3\n",
    "11. lym.nodes enlar: 1-4\n",
    "12. changes in lym.: nominal\n",
    "13. defect in node: nominal\n",
    "14. changes in node: nominal\n",
    "15. changes in stru: nominal\n",
    "16. special forms: nominal\n",
    "17. dislocation of: nominal\n",
    "18. exclusion of no: nominal\n",
    "19. no. of nodes in: racional"
   ]
  },
  {
   "cell_type": "markdown",
   "metadata": {},
   "source": [
    "4. Exploração dos dados através de medidas de localidade;"
   ]
  },
  {
   "cell_type": "code",
   "execution_count": 11,
   "metadata": {},
   "outputs": [
    {
     "name": "stdout",
     "output_type": "stream",
     "text": [
      "[3, 2, 3, 3, 2, 2, 2, 2, 3, 3, 2, 2, 2, 3, 4, 2, 2, 2, 2, 2, 3, 3, 2, 2, 3, 3, 3, 3, 2, 3, 3, 3, 2, 2, 2, 2, 4, 3, 3, 3, 3, 3, 2, 2, 4, 3, 2, 2, 2, 2, 2, 3, 2, 2, 2, 3, 3, 2, 3, 2, 3, 2, 3, 2, 2, 3, 3, 2, 3, 3, 2, 3, 2, 3, 3, 2, 2, 2, 1, 3, 3, 2, 3, 3, 3, 2, 2, 2, 3, 2, 3, 2, 2, 2, 3, 3, 2, 2, 2, 2, 3, 2, 2, 2, 2, 3, 2, 3, 2, 2, 2, 3, 2, 3, 3, 3, 3, 2, 3, 3, 2, 2, 2, 2, 2, 3, 2, 2, 3, 2, 2, 3, 3, 2, 2, 2, 1, 3, 2, 4, 2, 3, 2, 3, 2, 3, 2, 2]\n"
     ]
    },
    {
     "ename": "TypeError",
     "evalue": "Estatistica.media() takes 1 positional argument but 2 were given",
     "output_type": "error",
     "traceback": [
      "\u001b[1;31m---------------------------------------------------------------------------\u001b[0m",
      "\u001b[1;31mTypeError\u001b[0m                                 Traceback (most recent call last)",
      "Cell \u001b[1;32mIn[11], line 9\u001b[0m\n\u001b[0;32m      5\u001b[0m \u001b[38;5;28mprint\u001b[39m(classList);\n\u001b[0;32m      7\u001b[0m est \u001b[38;5;241m=\u001b[39m estatistica\u001b[38;5;241m.\u001b[39mEstatistica();\n\u001b[1;32m----> 9\u001b[0m \u001b[43mest\u001b[49m\u001b[38;5;241;43m.\u001b[39;49m\u001b[43mmedia\u001b[49m\u001b[43m(\u001b[49m\u001b[43mdata\u001b[49m\u001b[43m[\u001b[49m\u001b[38;5;124;43m\"\u001b[39;49m\u001b[38;5;124;43mclass\u001b[39;49m\u001b[38;5;124;43m\"\u001b[39;49m\u001b[43m]\u001b[49m\u001b[38;5;241;43m.\u001b[39;49m\u001b[43mtolist\u001b[49m\u001b[43m)\u001b[49m\n",
      "\u001b[1;31mTypeError\u001b[0m: Estatistica.media() takes 1 positional argument but 2 were given"
     ]
    }
   ],
   "source": [
    "from Statistical import estatistica\n",
    "\n",
    "classList = data[\"class\"].tolist();\n",
    "\n",
    "print(classList);\n",
    "\n",
    "est = estatistica.Estatistica();\n",
    "\n",
    "est.media(data[\"class\"].tolist)\n"
   ]
  },
  {
   "cell_type": "markdown",
   "metadata": {},
   "source": [
    "5. Exploração dos dados através de medidas de espalhamento;"
   ]
  },
  {
   "cell_type": "markdown",
   "metadata": {},
   "source": [
    "6. Exploração dos dados através de medidas de distribuição;"
   ]
  },
  {
   "cell_type": "markdown",
   "metadata": {},
   "source": [
    "7. Identificação e separação do conjunto de teste, que será utilizado para testar o desempenho\n",
    "dos modelos – o conjunto de testes deve ser representativo e ter as características da\n",
    "população completa. Caso sua base de dados já tenha o conjunto de teste definido, analisar\n",
    "se este segue as características do conjunto de treinamento;"
   ]
  },
  {
   "cell_type": "markdown",
   "metadata": {},
   "source": [
    "8. Identificação e eliminação de atributos não necessários;"
   ]
  },
  {
   "cell_type": "markdown",
   "metadata": {},
   "source": [
    "9. Identificação e eliminação de exemplos não necessários;"
   ]
  },
  {
   "cell_type": "markdown",
   "metadata": {},
   "source": [
    "10. Análise e aplicação de técnicas de amostragem de dados (caso não seja necessário, analisar\n",
    "o porquê);"
   ]
  },
  {
   "cell_type": "markdown",
   "metadata": {},
   "source": [
    "11. Identificação e aplicação de técnicas para minimizar problemas de desbalanceamento (caso\n",
    "não seja necessário, analisar o porquê);"
   ]
  },
  {
   "cell_type": "markdown",
   "metadata": {},
   "source": [
    "12. Limpeza de dados:\n",
    "a. Identificação e eliminação de ruídos ou outliers;\n",
    "b. Identificação e eliminação de dados inconsistentes;\n",
    "c. Identificação e eliminação de dados redundantes;\n",
    "d. Identificação e resolução de dados incompletos (ausentes) – utilização de alguma\n",
    "técnica de preenchimento e justificar;"
   ]
  },
  {
   "cell_type": "markdown",
   "metadata": {},
   "source": [
    "13. Identificação e conversão dos tipos de dados (caso não seja necessário, analisar o porquê).\n",
    "Os tipos de conversão que podem ser utilizados são:\n",
    "a. Conversão de tipos (simbólico para numérico, ordinal para numérico, nominal para\n",
    "binário, numérico para ordinal);\n",
    "b. Normalização dos dados (re-escala ou padronização);"
   ]
  },
  {
   "cell_type": "markdown",
   "metadata": {},
   "source": [
    "14. Análise e aplicação de alguma técnica para redução de dimensionalidade – pesquisar\n",
    "alguma técnica utilizada na literatura e aplicar;"
   ]
  }
 ],
 "metadata": {
  "kernelspec": {
   "display_name": "Python 3",
   "language": "python",
   "name": "python3"
  },
  "language_info": {
   "codemirror_mode": {
    "name": "ipython",
    "version": 3
   },
   "file_extension": ".py",
   "mimetype": "text/x-python",
   "name": "python",
   "nbconvert_exporter": "python",
   "pygments_lexer": "ipython3",
   "version": "3.12.4"
  },
  "orig_nbformat": 4
 },
 "nbformat": 4,
 "nbformat_minor": 2
}
